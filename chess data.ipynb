{
 "cells": [
  {
   "cell_type": "code",
   "execution_count": 1,
   "id": "3de8caee",
   "metadata": {},
   "outputs": [],
   "source": [
    "import requests\n",
    "from bs4 import BeautifulSoup\n",
    "import pandas as pd"
   ]
  },
  {
   "cell_type": "code",
   "execution_count": 2,
   "id": "96b3f720",
   "metadata": {},
   "outputs": [
    {
     "data": {
      "text/html": [
       "<div>\n",
       "<style scoped>\n",
       "    .dataframe tbody tr th:only-of-type {\n",
       "        vertical-align: middle;\n",
       "    }\n",
       "\n",
       "    .dataframe tbody tr th {\n",
       "        vertical-align: top;\n",
       "    }\n",
       "\n",
       "    .dataframe thead th {\n",
       "        text-align: right;\n",
       "    }\n",
       "</style>\n",
       "<table border=\"1\" class=\"dataframe\">\n",
       "  <thead>\n",
       "    <tr style=\"text-align: right;\">\n",
       "      <th></th>\n",
       "      <th>Name</th>\n",
       "      <th>Country</th>\n",
       "      <th>Title Year</th>\n",
       "      <th>Born</th>\n",
       "    </tr>\n",
       "  </thead>\n",
       "  <tbody>\n",
       "    <tr>\n",
       "      <th>617</th>\n",
       "      <td>Gumularz, Szymon</td>\n",
       "      <td>Poland</td>\n",
       "      <td>2021</td>\n",
       "      <td>2001-12-22</td>\n",
       "    </tr>\n",
       "    <tr>\n",
       "      <th>1983</th>\n",
       "      <td>Zaw Win Lay</td>\n",
       "      <td>Myanmar</td>\n",
       "      <td>2000</td>\n",
       "      <td>1963-10-22</td>\n",
       "    </tr>\n",
       "    <tr>\n",
       "      <th>946</th>\n",
       "      <td>Kuczyński, Robert</td>\n",
       "      <td>Poland</td>\n",
       "      <td>1993</td>\n",
       "      <td>1966-04-17</td>\n",
       "    </tr>\n",
       "    <tr>\n",
       "      <th>1787</th>\n",
       "      <td>Tin, Jingyao</td>\n",
       "      <td>Singapore</td>\n",
       "      <td>2022</td>\n",
       "      <td>2000</td>\n",
       "    </tr>\n",
       "    <tr>\n",
       "      <th>88</th>\n",
       "      <td>Arribas Lopez, Angel</td>\n",
       "      <td>Spain</td>\n",
       "      <td>2014</td>\n",
       "      <td>1993-11-27</td>\n",
       "    </tr>\n",
       "    <tr>\n",
       "      <th>459</th>\n",
       "      <td>Filip, Miroslav</td>\n",
       "      <td>Czecho­slovakia</td>\n",
       "      <td>1955</td>\n",
       "      <td>1928-10-27</td>\n",
       "    </tr>\n",
       "    <tr>\n",
       "      <th>453</th>\n",
       "      <td>Fernandez Romero, Ernesto</td>\n",
       "      <td>Spain</td>\n",
       "      <td>2018</td>\n",
       "      <td>1983-01-23</td>\n",
       "    </tr>\n",
       "    <tr>\n",
       "      <th>1946</th>\n",
       "      <td>Yankelevich, Lev</td>\n",
       "      <td>Germany</td>\n",
       "      <td>2022</td>\n",
       "      <td>1997-10-28</td>\n",
       "    </tr>\n",
       "    <tr>\n",
       "      <th>1170</th>\n",
       "      <td>Miron, Lucian-Costin</td>\n",
       "      <td>Romania</td>\n",
       "      <td>2019</td>\n",
       "      <td>1987-09-14</td>\n",
       "    </tr>\n",
       "    <tr>\n",
       "      <th>1440</th>\n",
       "      <td>Quesada Pérez, Yuniesky</td>\n",
       "      <td>Cuba</td>\n",
       "      <td>2005</td>\n",
       "      <td>1984-07-31</td>\n",
       "    </tr>\n",
       "  </tbody>\n",
       "</table>\n",
       "</div>"
      ],
      "text/plain": [
       "                           Name          Country Title Year        Born\n",
       "617            Gumularz, Szymon           Poland       2021  2001-12-22\n",
       "1983                Zaw Win Lay          Myanmar       2000  1963-10-22\n",
       "946           Kuczyński, Robert           Poland       1993  1966-04-17\n",
       "1787               Tin, Jingyao        Singapore       2022        2000\n",
       "88         Arribas Lopez, Angel            Spain       2014  1993-11-27\n",
       "459             Filip, Miroslav  Czecho­slovakia       1955  1928-10-27\n",
       "453   Fernandez Romero, Ernesto            Spain       2018  1983-01-23\n",
       "1946           Yankelevich, Lev          Germany       2022  1997-10-28\n",
       "1170       Miron, Lucian-Costin          Romania       2019  1987-09-14\n",
       "1440    Quesada Pérez, Yuniesky             Cuba       2005  1984-07-31"
      ]
     },
     "execution_count": 2,
     "metadata": {},
     "output_type": "execute_result"
    }
   ],
   "source": [
    "# Define the URL of the Wikipedia page to be scraped\n",
    "url = 'https://en.wikipedia.org/wiki/List_of_chess_grandmasters'\n",
    "\n",
    "# Send a GET request to the URL and store the response in a variable\n",
    "response = requests.get(url)\n",
    "\n",
    "# Parse the HTML content of the response using BeautifulSoup\n",
    "soup = BeautifulSoup(response.content, 'html.parser')\n",
    "\n",
    "# Find the table containing the list of grand masters\n",
    "table = soup.find('table', class_='wikitable')\n",
    "rows = table.find_all('tr')\n",
    "data = []\n",
    "\n",
    "for row in rows[1:]:\n",
    "    cells = row.find_all('td')\n",
    "    name = cells[0].text.strip()\n",
    "    country = cells[6].text.strip()\n",
    "    year = cells[5].text.strip()\n",
    "    born = cells[2].text.strip()\n",
    "    data.append([name, country, year, born])\n",
    "\n",
    "# Create a pandas dataframe from the data\n",
    "df = pd.DataFrame(data, columns=['Name', 'Country', 'Title Year','Born'])\n",
    "\n",
    "# Print the dataframe\n",
    "df.sample(10)"
   ]
  },
  {
   "cell_type": "code",
   "execution_count": 3,
   "id": "5c8148bb",
   "metadata": {},
   "outputs": [],
   "source": [
    "pattern = r'(\\d{4})-\\d{2}-\\d{2}'\n",
    "df['Born Year'] = df['Born'].str.extract(pattern)\n",
    "df.drop(columns=['Born'],inplace= True)"
   ]
  },
  {
   "cell_type": "code",
   "execution_count": 4,
   "id": "b3dde4f6",
   "metadata": {},
   "outputs": [
    {
     "data": {
      "text/html": [
       "<div>\n",
       "<style scoped>\n",
       "    .dataframe tbody tr th:only-of-type {\n",
       "        vertical-align: middle;\n",
       "    }\n",
       "\n",
       "    .dataframe tbody tr th {\n",
       "        vertical-align: top;\n",
       "    }\n",
       "\n",
       "    .dataframe thead th {\n",
       "        text-align: right;\n",
       "    }\n",
       "</style>\n",
       "<table border=\"1\" class=\"dataframe\">\n",
       "  <thead>\n",
       "    <tr style=\"text-align: right;\">\n",
       "      <th></th>\n",
       "      <th>Name</th>\n",
       "      <th>Country</th>\n",
       "      <th>Title Year</th>\n",
       "      <th>Born Year</th>\n",
       "    </tr>\n",
       "  </thead>\n",
       "  <tbody>\n",
       "    <tr>\n",
       "      <th>0</th>\n",
       "      <td>Aagaard, Jacob</td>\n",
       "      <td>Denmark</td>\n",
       "      <td>2007</td>\n",
       "      <td>1973</td>\n",
       "    </tr>\n",
       "    <tr>\n",
       "      <th>1</th>\n",
       "      <td>Abasov, Nijat</td>\n",
       "      <td>Azerbaijan</td>\n",
       "      <td>2011</td>\n",
       "      <td>1995</td>\n",
       "    </tr>\n",
       "    <tr>\n",
       "      <th>2</th>\n",
       "      <td>Abbasifar, Hasan</td>\n",
       "      <td>Iran</td>\n",
       "      <td>2013</td>\n",
       "      <td>1972</td>\n",
       "    </tr>\n",
       "    <tr>\n",
       "      <th>3</th>\n",
       "      <td>Abbasov, Farid</td>\n",
       "      <td>Azerbaijan</td>\n",
       "      <td>2007</td>\n",
       "      <td>1979</td>\n",
       "    </tr>\n",
       "    <tr>\n",
       "      <th>4</th>\n",
       "      <td>Abdumalik, Zhansaya</td>\n",
       "      <td>Kazakhstan</td>\n",
       "      <td>2021</td>\n",
       "      <td>2000</td>\n",
       "    </tr>\n",
       "    <tr>\n",
       "      <th>5</th>\n",
       "      <td>Abdusattorov, Nodirbek</td>\n",
       "      <td>Uzbekistan</td>\n",
       "      <td>2018</td>\n",
       "      <td>2004</td>\n",
       "    </tr>\n",
       "    <tr>\n",
       "      <th>6</th>\n",
       "      <td>Abergel, Thal</td>\n",
       "      <td>France</td>\n",
       "      <td>2008</td>\n",
       "      <td>1982</td>\n",
       "    </tr>\n",
       "    <tr>\n",
       "      <th>7</th>\n",
       "      <td>Abramović, Boško</td>\n",
       "      <td>Yugoslavia</td>\n",
       "      <td>1984</td>\n",
       "      <td>1951</td>\n",
       "    </tr>\n",
       "    <tr>\n",
       "      <th>8</th>\n",
       "      <td>Abreu Delgado, Aryam</td>\n",
       "      <td>Cuba</td>\n",
       "      <td>2008</td>\n",
       "      <td>1978</td>\n",
       "    </tr>\n",
       "    <tr>\n",
       "      <th>9</th>\n",
       "      <td>Ács, Péter</td>\n",
       "      <td>Hungary</td>\n",
       "      <td>1998</td>\n",
       "      <td>1981</td>\n",
       "    </tr>\n",
       "  </tbody>\n",
       "</table>\n",
       "</div>"
      ],
      "text/plain": [
       "                     Name     Country Title Year Born Year\n",
       "0          Aagaard, Jacob     Denmark       2007      1973\n",
       "1           Abasov, Nijat  Azerbaijan       2011      1995\n",
       "2        Abbasifar, Hasan        Iran       2013      1972\n",
       "3          Abbasov, Farid  Azerbaijan       2007      1979\n",
       "4     Abdumalik, Zhansaya  Kazakhstan       2021      2000\n",
       "5  Abdusattorov, Nodirbek  Uzbekistan       2018      2004\n",
       "6           Abergel, Thal      France       2008      1982\n",
       "7        Abramović, Boško  Yugoslavia       1984      1951\n",
       "8    Abreu Delgado, Aryam        Cuba       2008      1978\n",
       "9              Ács, Péter     Hungary       1998      1981"
      ]
     },
     "execution_count": 4,
     "metadata": {},
     "output_type": "execute_result"
    }
   ],
   "source": [
    "df.head(10)"
   ]
  },
  {
   "cell_type": "code",
   "execution_count": 5,
   "id": "56c1ffdf",
   "metadata": {},
   "outputs": [
    {
     "data": {
      "text/plain": [
       "Name           0\n",
       "Country        0\n",
       "Title Year     0\n",
       "Born Year     13\n",
       "dtype: int64"
      ]
     },
     "execution_count": 5,
     "metadata": {},
     "output_type": "execute_result"
    }
   ],
   "source": [
    "df.isnull().sum()"
   ]
  },
  {
   "cell_type": "code",
   "execution_count": 6,
   "id": "2c83dcbd",
   "metadata": {},
   "outputs": [],
   "source": [
    "df.dropna(inplace= True)"
   ]
  },
  {
   "cell_type": "code",
   "execution_count": 7,
   "id": "ea1bebc8",
   "metadata": {},
   "outputs": [],
   "source": [
    "df['Title Year'] = df['Title Year'].astype('int')\n",
    "df['Born Year'] = df['Born Year'].astype('int')\n",
    "df['Title Age'] = df['Title Year'] - df['Born Year']"
   ]
  },
  {
   "cell_type": "code",
   "execution_count": 8,
   "id": "4cb392af",
   "metadata": {},
   "outputs": [],
   "source": [
    "max_age = df['Title Age'].max()\n",
    "max_age_rows = df.loc[df['Title Age'] == max_age]"
   ]
  },
  {
   "cell_type": "code",
   "execution_count": 10,
   "id": "1f2828bf",
   "metadata": {},
   "outputs": [
    {
     "data": {
      "text/html": [
       "<div>\n",
       "<style scoped>\n",
       "    .dataframe tbody tr th:only-of-type {\n",
       "        vertical-align: middle;\n",
       "    }\n",
       "\n",
       "    .dataframe tbody tr th {\n",
       "        vertical-align: top;\n",
       "    }\n",
       "\n",
       "    .dataframe thead th {\n",
       "        text-align: right;\n",
       "    }\n",
       "</style>\n",
       "<table border=\"1\" class=\"dataframe\">\n",
       "  <thead>\n",
       "    <tr style=\"text-align: right;\">\n",
       "      <th></th>\n",
       "      <th>Name</th>\n",
       "      <th>Country</th>\n",
       "      <th>Title Year</th>\n",
       "      <th>Born Year</th>\n",
       "      <th>Title Age</th>\n",
       "    </tr>\n",
       "  </thead>\n",
       "  <tbody>\n",
       "    <tr>\n",
       "      <th>1329</th>\n",
       "      <td>Paoli, Enrico</td>\n",
       "      <td>Italy</td>\n",
       "      <td>1996</td>\n",
       "      <td>1908</td>\n",
       "      <td>88</td>\n",
       "    </tr>\n",
       "  </tbody>\n",
       "</table>\n",
       "</div>"
      ],
      "text/plain": [
       "               Name Country  Title Year  Born Year  Title Age\n",
       "1329  Paoli, Enrico   Italy        1996       1908         88"
      ]
     },
     "execution_count": 10,
     "metadata": {},
     "output_type": "execute_result"
    }
   ],
   "source": [
    "max_age_rows"
   ]
  },
  {
   "cell_type": "code",
   "execution_count": 11,
   "id": "c29e3d03-59d3-4468-bc12-7d8010e5c8de",
   "metadata": {
    "tags": []
   },
   "outputs": [],
   "source": [
    "import seaborn as sns \n"
   ]
  },
  {
   "cell_type": "code",
   "execution_count": null,
   "id": "7cfc76d6-2706-452e-8939-5e4cc4eb3f91",
   "metadata": {},
   "outputs": [],
   "source": [
    "sns.he"
   ]
  }
 ],
 "metadata": {
  "kernelspec": {
   "display_name": "Python 3 (ipykernel)",
   "language": "python",
   "name": "python3"
  },
  "language_info": {
   "codemirror_mode": {
    "name": "ipython",
    "version": 3
   },
   "file_extension": ".py",
   "mimetype": "text/x-python",
   "name": "python",
   "nbconvert_exporter": "python",
   "pygments_lexer": "ipython3",
   "version": "3.10.2"
  }
 },
 "nbformat": 4,
 "nbformat_minor": 5
}
